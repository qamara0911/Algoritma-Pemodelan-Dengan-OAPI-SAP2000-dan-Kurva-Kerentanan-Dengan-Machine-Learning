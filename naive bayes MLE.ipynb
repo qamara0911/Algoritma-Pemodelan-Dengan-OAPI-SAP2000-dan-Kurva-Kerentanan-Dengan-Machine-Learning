{
 "cells": [
  {
   "cell_type": "code",
   "execution_count": 1,
   "metadata": {},
   "outputs": [],
   "source": [
    "import numpy as np\n",
    "import matplotlib.pyplot as plt\n",
    "import pandas as pd\n",
    "import math\n",
    "\n",
    "from scipy.stats import lognorm\n",
    "import scipy.stats as stats\n",
    "from scipy.stats import norm\n",
    "from scipy.optimize import minimize\n",
    "\n",
    "from sklearn.model_selection import train_test_split    # untuk membaagi dataset menjadi model training dan datatest\n",
    "from sklearn.preprocessing import StandardScaler        # untuk mengubah skala menjadi mean 0 dan deviasi standar 1\n",
    "from sklearn.naive_bayes import BernoulliNB             # metode naive bayes untuk data biner\n",
    "from sklearn.metrics import accuracy_score              # untuk mengukur tingkat akurasi dari model klasifikasi\n",
    "from sklearn.naive_bayes import GaussianNB              # metode naive bayes untuk mengasumsikan data terdistribusi normal\n",
    "from sklearn.metrics import confusion_matrix            # untuk memahami sejauh mana model klasifikasi memprediksi kelas dg benar\n",
    "from sklearn.metrics import classification_report       "
   ]
  },
  {
   "cell_type": "code",
   "execution_count": 2,
   "metadata": {},
   "outputs": [
    {
     "data": {
      "text/html": [
       "<div>\n",
       "<style scoped>\n",
       "    .dataframe tbody tr th:only-of-type {\n",
       "        vertical-align: middle;\n",
       "    }\n",
       "\n",
       "    .dataframe tbody tr th {\n",
       "        vertical-align: top;\n",
       "    }\n",
       "\n",
       "    .dataframe thead th {\n",
       "        text-align: right;\n",
       "    }\n",
       "</style>\n",
       "<table border=\"1\" class=\"dataframe\">\n",
       "  <thead>\n",
       "    <tr style=\"text-align: right;\">\n",
       "      <th></th>\n",
       "      <th>Panjang</th>\n",
       "      <th>Beban Tephra</th>\n",
       "      <th>Sudut</th>\n",
       "      <th>Aman Terhadap Penampang</th>\n",
       "    </tr>\n",
       "  </thead>\n",
       "  <tbody>\n",
       "    <tr>\n",
       "      <th>0</th>\n",
       "      <td>6000</td>\n",
       "      <td>0.0</td>\n",
       "      <td>15</td>\n",
       "      <td>Aman</td>\n",
       "    </tr>\n",
       "    <tr>\n",
       "      <th>1</th>\n",
       "      <td>6000</td>\n",
       "      <td>0.0</td>\n",
       "      <td>20</td>\n",
       "      <td>Aman</td>\n",
       "    </tr>\n",
       "    <tr>\n",
       "      <th>2</th>\n",
       "      <td>6000</td>\n",
       "      <td>0.0</td>\n",
       "      <td>25</td>\n",
       "      <td>Aman</td>\n",
       "    </tr>\n",
       "    <tr>\n",
       "      <th>3</th>\n",
       "      <td>6000</td>\n",
       "      <td>0.0</td>\n",
       "      <td>30</td>\n",
       "      <td>Aman</td>\n",
       "    </tr>\n",
       "    <tr>\n",
       "      <th>4</th>\n",
       "      <td>6000</td>\n",
       "      <td>0.0</td>\n",
       "      <td>35</td>\n",
       "      <td>Aman</td>\n",
       "    </tr>\n",
       "    <tr>\n",
       "      <th>...</th>\n",
       "      <td>...</td>\n",
       "      <td>...</td>\n",
       "      <td>...</td>\n",
       "      <td>...</td>\n",
       "    </tr>\n",
       "    <tr>\n",
       "      <th>303</th>\n",
       "      <td>7500</td>\n",
       "      <td>1.0</td>\n",
       "      <td>25</td>\n",
       "      <td>Tidak Aman</td>\n",
       "    </tr>\n",
       "    <tr>\n",
       "      <th>304</th>\n",
       "      <td>7500</td>\n",
       "      <td>1.0</td>\n",
       "      <td>30</td>\n",
       "      <td>Tidak Aman</td>\n",
       "    </tr>\n",
       "    <tr>\n",
       "      <th>305</th>\n",
       "      <td>7500</td>\n",
       "      <td>1.0</td>\n",
       "      <td>35</td>\n",
       "      <td>Tidak Aman</td>\n",
       "    </tr>\n",
       "    <tr>\n",
       "      <th>306</th>\n",
       "      <td>7500</td>\n",
       "      <td>1.0</td>\n",
       "      <td>40</td>\n",
       "      <td>Tidak Aman</td>\n",
       "    </tr>\n",
       "    <tr>\n",
       "      <th>307</th>\n",
       "      <td>7500</td>\n",
       "      <td>1.0</td>\n",
       "      <td>45</td>\n",
       "      <td>Tidak Aman</td>\n",
       "    </tr>\n",
       "  </tbody>\n",
       "</table>\n",
       "<p>308 rows × 4 columns</p>\n",
       "</div>"
      ],
      "text/plain": [
       "     Panjang  Beban Tephra  Sudut Aman Terhadap Penampang\n",
       "0       6000           0.0     15                    Aman\n",
       "1       6000           0.0     20                    Aman\n",
       "2       6000           0.0     25                    Aman\n",
       "3       6000           0.0     30                    Aman\n",
       "4       6000           0.0     35                    Aman\n",
       "..       ...           ...    ...                     ...\n",
       "303     7500           1.0     25              Tidak Aman\n",
       "304     7500           1.0     30              Tidak Aman\n",
       "305     7500           1.0     35              Tidak Aman\n",
       "306     7500           1.0     40              Tidak Aman\n",
       "307     7500           1.0     45              Tidak Aman\n",
       "\n",
       "[308 rows x 4 columns]"
      ]
     },
     "execution_count": 2,
     "metadata": {},
     "output_type": "execute_result"
    }
   ],
   "source": [
    "data = pd.read_csv(\"f:/Data D/TUGAS TH.4/TGA/ATAP/CSV/Rekap data/DATA KEAMANAN TUNGGAL\")\n",
    "data"
   ]
  },
  {
   "cell_type": "code",
   "execution_count": 3,
   "metadata": {},
   "outputs": [],
   "source": [
    "#Split data menjadi input dan output\n",
    "X = data.iloc[:, [0, 1, 2]].values      # input\n",
    "y = data.iloc[:, 3 ].values             # output"
   ]
  },
  {
   "cell_type": "code",
   "execution_count": 4,
   "metadata": {},
   "outputs": [],
   "source": [
    "#Training dan test data\n",
    "X_train, X_test, y_train, y_test = train_test_split(X, y, test_size=0.1, random_state=42) \n",
    "\n",
    "#test_size=0.1 artinya 10% dari data dijadiin data buat test, 90% lain untuk training model"
   ]
  },
  {
   "cell_type": "code",
   "execution_count": 5,
   "metadata": {},
   "outputs": [],
   "source": [
    "#Scaling data\n",
    "sc = StandardScaler() \n",
    "X_train = sc.fit_transform(X_train)\n",
    "X_test = sc.transform(X_test)"
   ]
  },
  {
   "cell_type": "code",
   "execution_count": 6,
   "metadata": {},
   "outputs": [
    {
     "data": {
      "text/html": [
       "<style>#sk-container-id-1 {color: black;}#sk-container-id-1 pre{padding: 0;}#sk-container-id-1 div.sk-toggleable {background-color: white;}#sk-container-id-1 label.sk-toggleable__label {cursor: pointer;display: block;width: 100%;margin-bottom: 0;padding: 0.3em;box-sizing: border-box;text-align: center;}#sk-container-id-1 label.sk-toggleable__label-arrow:before {content: \"▸\";float: left;margin-right: 0.25em;color: #696969;}#sk-container-id-1 label.sk-toggleable__label-arrow:hover:before {color: black;}#sk-container-id-1 div.sk-estimator:hover label.sk-toggleable__label-arrow:before {color: black;}#sk-container-id-1 div.sk-toggleable__content {max-height: 0;max-width: 0;overflow: hidden;text-align: left;background-color: #f0f8ff;}#sk-container-id-1 div.sk-toggleable__content pre {margin: 0.2em;color: black;border-radius: 0.25em;background-color: #f0f8ff;}#sk-container-id-1 input.sk-toggleable__control:checked~div.sk-toggleable__content {max-height: 200px;max-width: 100%;overflow: auto;}#sk-container-id-1 input.sk-toggleable__control:checked~label.sk-toggleable__label-arrow:before {content: \"▾\";}#sk-container-id-1 div.sk-estimator input.sk-toggleable__control:checked~label.sk-toggleable__label {background-color: #d4ebff;}#sk-container-id-1 div.sk-label input.sk-toggleable__control:checked~label.sk-toggleable__label {background-color: #d4ebff;}#sk-container-id-1 input.sk-hidden--visually {border: 0;clip: rect(1px 1px 1px 1px);clip: rect(1px, 1px, 1px, 1px);height: 1px;margin: -1px;overflow: hidden;padding: 0;position: absolute;width: 1px;}#sk-container-id-1 div.sk-estimator {font-family: monospace;background-color: #f0f8ff;border: 1px dotted black;border-radius: 0.25em;box-sizing: border-box;margin-bottom: 0.5em;}#sk-container-id-1 div.sk-estimator:hover {background-color: #d4ebff;}#sk-container-id-1 div.sk-parallel-item::after {content: \"\";width: 100%;border-bottom: 1px solid gray;flex-grow: 1;}#sk-container-id-1 div.sk-label:hover label.sk-toggleable__label {background-color: #d4ebff;}#sk-container-id-1 div.sk-serial::before {content: \"\";position: absolute;border-left: 1px solid gray;box-sizing: border-box;top: 0;bottom: 0;left: 50%;z-index: 0;}#sk-container-id-1 div.sk-serial {display: flex;flex-direction: column;align-items: center;background-color: white;padding-right: 0.2em;padding-left: 0.2em;position: relative;}#sk-container-id-1 div.sk-item {position: relative;z-index: 1;}#sk-container-id-1 div.sk-parallel {display: flex;align-items: stretch;justify-content: center;background-color: white;position: relative;}#sk-container-id-1 div.sk-item::before, #sk-container-id-1 div.sk-parallel-item::before {content: \"\";position: absolute;border-left: 1px solid gray;box-sizing: border-box;top: 0;bottom: 0;left: 50%;z-index: -1;}#sk-container-id-1 div.sk-parallel-item {display: flex;flex-direction: column;z-index: 1;position: relative;background-color: white;}#sk-container-id-1 div.sk-parallel-item:first-child::after {align-self: flex-end;width: 50%;}#sk-container-id-1 div.sk-parallel-item:last-child::after {align-self: flex-start;width: 50%;}#sk-container-id-1 div.sk-parallel-item:only-child::after {width: 0;}#sk-container-id-1 div.sk-dashed-wrapped {border: 1px dashed gray;margin: 0 0.4em 0.5em 0.4em;box-sizing: border-box;padding-bottom: 0.4em;background-color: white;}#sk-container-id-1 div.sk-label label {font-family: monospace;font-weight: bold;display: inline-block;line-height: 1.2em;}#sk-container-id-1 div.sk-label-container {text-align: center;}#sk-container-id-1 div.sk-container {/* jupyter's `normalize.less` sets `[hidden] { display: none; }` but bootstrap.min.css set `[hidden] { display: none !important; }` so we also need the `!important` here to be able to override the default hidden behavior on the sphinx rendered scikit-learn.org. See: https://github.com/scikit-learn/scikit-learn/issues/21755 */display: inline-block !important;position: relative;}#sk-container-id-1 div.sk-text-repr-fallback {display: none;}</style><div id=\"sk-container-id-1\" class=\"sk-top-container\"><div class=\"sk-text-repr-fallback\"><pre>GaussianNB()</pre><b>In a Jupyter environment, please rerun this cell to show the HTML representation or trust the notebook. <br />On GitHub, the HTML representation is unable to render, please try loading this page with nbviewer.org.</b></div><div class=\"sk-container\" hidden><div class=\"sk-item\"><div class=\"sk-estimator sk-toggleable\"><input class=\"sk-toggleable__control sk-hidden--visually\" id=\"sk-estimator-id-1\" type=\"checkbox\" checked><label for=\"sk-estimator-id-1\" class=\"sk-toggleable__label sk-toggleable__label-arrow\">GaussianNB</label><div class=\"sk-toggleable__content\"><pre>GaussianNB()</pre></div></div></div></div></div>"
      ],
      "text/plain": [
       "GaussianNB()"
      ]
     },
     "execution_count": 6,
     "metadata": {},
     "output_type": "execute_result"
    }
   ],
   "source": [
    "#Training model dengan Gaussian Naive Bayes Classifier\n",
    "classifier = GaussianNB()\n",
    "classifier.fit(X_train, y_train)"
   ]
  },
  {
   "cell_type": "code",
   "execution_count": 7,
   "metadata": {},
   "outputs": [
    {
     "name": "stdout",
     "output_type": "stream",
     "text": [
      "0.9354838709677419\n"
     ]
    }
   ],
   "source": [
    "#Test model\n",
    "y_pred = classifier.predict(X_test)\n",
    "\n",
    "print(accuracy_score(y_test, y_pred))\n",
    "# rumus : TP + TN / (TP + TN + FP + FN)"
   ]
  },
  {
   "cell_type": "code",
   "execution_count": 8,
   "metadata": {},
   "outputs": [
    {
     "data": {
      "text/plain": [
       "array([[14,  1],\n",
       "       [ 1, 15]], dtype=int64)"
      ]
     },
     "execution_count": 8,
     "metadata": {},
     "output_type": "execute_result"
    }
   ],
   "source": [
    "#Confusion Matrix\n",
    "from sklearn.metrics import confusion_matrix, accuracy_score\n",
    "cm = confusion_matrix(y_test, y_pred)\n",
    "cm\n",
    "\n",
    "# 14 : Jumlah data 'aman' yang diprediksi dengan benar oleh model\n",
    "# 15 : Jumlah data 'tidak aman' yang diprediksi dengan benar oleh model\n",
    "# 1   : Jumlah data 'aman' yang salah diprediksi sebagai 'tidak aman' oleh model\n",
    "# 1 : Jumlah data 'tidak aman' yang salah diprediksi sebagai 'aman' oleh model"
   ]
  },
  {
   "cell_type": "code",
   "execution_count": 9,
   "metadata": {},
   "outputs": [
    {
     "name": "stdout",
     "output_type": "stream",
     "text": [
      "['Tidak Aman']\n"
     ]
    }
   ],
   "source": [
    "print(classifier.predict(sc.transform([[6000, 1.5, 45]])))"
   ]
  },
  {
   "cell_type": "code",
   "execution_count": 10,
   "metadata": {},
   "outputs": [
    {
     "name": "stdout",
     "output_type": "stream",
     "text": [
      "       Panjang  Beban Tephra  Sudut Aman Terhadap Penampang\n",
      "0         6000          0.02     15                  [Aman]\n",
      "1         6000          0.02     16                  [Aman]\n",
      "2         6000          0.02     17                  [Aman]\n",
      "3         6000          0.02     18                  [Aman]\n",
      "4         6000          0.02     19                  [Aman]\n",
      "...        ...           ...    ...                     ...\n",
      "24795     7500          1.00     41            [Tidak Aman]\n",
      "24796     7500          1.00     42            [Tidak Aman]\n",
      "24797     7500          1.00     43            [Tidak Aman]\n",
      "24798     7500          1.00     44            [Tidak Aman]\n",
      "24799     7500          1.00     45            [Tidak Aman]\n",
      "\n",
      "[24800 rows x 4 columns]\n"
     ]
    }
   ],
   "source": [
    "#Prediksid data baru\n",
    "\n",
    "tephra = []\n",
    "Sudut = []\n",
    "Panjang = []\n",
    "CFSR = []\n",
    "\n",
    "for panjang in range (6000, 7501, 100):\n",
    "    for beban_tephra in range (1, 51, 1):\n",
    "        beban_tephra = beban_tephra/50    \n",
    "        for sudut in range (15, 46, 1):\n",
    "\n",
    "            tephra.append(beban_tephra)\n",
    "            Sudut.append(sudut)\n",
    "            Panjang.append(panjang)\n",
    "            CFSR.append(classifier.predict(sc.transform([[panjang, beban_tephra, sudut]])))\n",
    "\n",
    "data ={\n",
    "    'Panjang' : Panjang,\n",
    "    'Beban Tephra': tephra,\n",
    "    'Sudut' : Sudut,\n",
    "    'Aman Terhadap Penampang' : CFSR\n",
    "} \n",
    "\n",
    "data = pd.DataFrame(data)\n",
    "print(data)"
   ]
  },
  {
   "cell_type": "code",
   "execution_count": 11,
   "metadata": {},
   "outputs": [
    {
     "name": "stdout",
     "output_type": "stream",
     "text": [
      "       Panjang  Beban Tephra  Sudut Aman Terhadap Penampang\n",
      "0         6000          0.02     15                  [Aman]\n",
      "1         6000          0.02     16                  [Aman]\n",
      "2         6000          0.02     17                  [Aman]\n",
      "3         6000          0.02     18                  [Aman]\n",
      "4         6000          0.02     19                  [Aman]\n",
      "...        ...           ...    ...                     ...\n",
      "24795     7500          1.00     41            [Tidak Aman]\n",
      "24796     7500          1.00     42            [Tidak Aman]\n",
      "24797     7500          1.00     43            [Tidak Aman]\n",
      "24798     7500          1.00     44            [Tidak Aman]\n",
      "24799     7500          1.00     45            [Tidak Aman]\n",
      "\n",
      "[24800 rows x 4 columns]\n"
     ]
    }
   ],
   "source": [
    "data.to_csv('f:/Data D/TUGAS TH.4/TGA/ATAP/DATA ML/DATA HASIL NAIVE BAYES.csv')\n",
    "print(data)"
   ]
  },
  {
   "cell_type": "code",
   "execution_count": 12,
   "metadata": {},
   "outputs": [],
   "source": [
    "# Function to perform optimization and plotting for each damage state\n",
    "def plot_fragility_curve(IM, damaged_roof, total_roof, label, color):\n",
    "    y=damaged_roof/total_roof\n",
    "    # Define the neg-loglik function\n",
    "    def neg_loglik(theta):\n",
    "        mu = theta[0]\n",
    "        sigma = theta[1]\n",
    "        prob = norm.cdf((np.log(IM) - mu) / sigma)\n",
    "        ll = y * np.log(prob) + (1 - y) * np.log(1 - prob)\n",
    "        return -np.sum(ll)\n",
    "\n",
    "    # Perform optimization to estimate the parameters\n",
    "    theta_start = np.array([0, 1])\n",
    "    res = minimize(neg_loglik, theta_start, method='Nelder-Mead') #meminimalkan fungsi likelihood\n",
    "\n",
    "    mu_hat, sigma_hat = res.x #Ambil parameter yang dioptimalkan\n",
    "    \n",
    "    # Generate IM values for fragility curve\n",
    "    IM_range = np.linspace(0, 1.0, 1000)\n",
    "\n",
    "    # Calculate fragility curve\n",
    "    p_collapse_range = norm.cdf((np.log(IM_range) - mu_hat) / sigma_hat)\n",
    "\n",
    "    data ={\n",
    "    'Beban Tephra' : IM_range,\n",
    "    'Probability': p_collapse_range,\n",
    "    }\n",
    "\n",
    "    data= pd.DataFrame(data)\n",
    "    print(data)\n",
    "   \n",
    "    csvdata = pd.DataFrame(data)\n",
    "    csvdata.to_csv(\"f:/Data D/TUGAS TH.4/TGA/ATAP/DATA ML/EXCEL KURVA KERENTANAN NAIVE BAYES MLE.csv\", index=False)\n",
    "\n",
    "    # Plotting the fragility curve\n",
    "    plt.plot(IM_range, p_collapse_range, label=f'{label} (mu={mu_hat:.2f}, sigma={sigma_hat:.2f})', color=color)\n",
    "\n",
    "    plt.title('Lognormal CDF Vulnerability Curves using MLE')\n",
    "    plt.xlabel('Tephra (kPa)')\n",
    "    plt.ylabel('P[Collapse]')\n",
    "    plt.legend()\n",
    "    plt.grid(True)\n",
    "    plt.savefig('f:/Data D/TUGAS TH.4/TGA/ATAP/DATA ML/KURVA KERENTANAN NAIVE BAYES MENGGUNAKAN MLE.png')\n",
    "\n",
    "    return p_collapse_range, mu_hat, sigma_hat\n",
    "    "
   ]
  },
  {
   "cell_type": "code",
   "execution_count": 13,
   "metadata": {},
   "outputs": [
    {
     "name": "stdout",
     "output_type": "stream",
     "text": [
      "Beban Tephra: [0.02 0.04 0.06 0.08 0.1  0.12 0.14 0.16 0.18 0.2  0.22 0.24 0.26 0.28\n",
      " 0.3  0.32 0.34 0.36 0.38 0.4  0.42 0.44 0.46 0.48 0.5  0.52 0.54 0.56\n",
      " 0.58 0.6  0.62 0.64 0.66 0.68 0.7  0.72 0.74 0.76 0.78 0.8  0.82 0.84\n",
      " 0.86 0.88 0.9  0.92 0.94 0.96 0.98 1.  ]\n"
     ]
    }
   ],
   "source": [
    "Tephra = data['Beban Tephra'].unique()\n",
    "\n",
    "print(\"Beban Tephra:\", Tephra)"
   ]
  },
  {
   "cell_type": "code",
   "execution_count": 14,
   "metadata": {},
   "outputs": [
    {
     "name": "stdout",
     "output_type": "stream",
     "text": [
      "[496 496 496 496 496 496 496 496 496 496 496 496 496 496 496 496 496 496\n",
      " 496 496 496 496 496 496 496 496 496 496 496 496 496 496 496 496 496 496\n",
      " 496 496 496 496 496 496 496 496 496 496 496 496 496 496]\n"
     ]
    }
   ],
   "source": [
    "total_roof = data['Beban Tephra'].value_counts().sort_values().values\n",
    "print(total_roof)"
   ]
  },
  {
   "cell_type": "code",
   "execution_count": 15,
   "metadata": {},
   "outputs": [
    {
     "name": "stdout",
     "output_type": "stream",
     "text": [
      "    Beban Tephra  Damaged Roof\n",
      "0           0.02             0\n",
      "1           0.04             0\n",
      "2           0.06             0\n",
      "3           0.08             0\n",
      "4           0.10             0\n",
      "5           0.12             0\n",
      "6           0.14             0\n",
      "7           0.16             0\n",
      "8           0.18             0\n",
      "9           0.20             0\n",
      "10          0.22             0\n",
      "11          0.24             0\n",
      "12          0.26             0\n",
      "13          0.28             0\n",
      "14          0.30             0\n",
      "15          0.32             0\n",
      "16          0.34             0\n",
      "17          0.36             0\n",
      "18          0.38             0\n",
      "19          0.40             0\n",
      "20          0.42             3\n",
      "21          0.44            52\n",
      "22          0.46           154\n",
      "23          0.48           311\n",
      "24          0.50           423\n",
      "25          0.52           484\n",
      "26          0.54           496\n",
      "27          0.56           496\n",
      "28          0.58           496\n",
      "29          0.60           496\n",
      "30          0.62           496\n",
      "31          0.64           496\n",
      "32          0.66           496\n",
      "33          0.68           496\n",
      "34          0.70           496\n",
      "35          0.72           496\n",
      "36          0.74           496\n",
      "37          0.76           496\n",
      "38          0.78           496\n",
      "39          0.80           496\n",
      "40          0.82           496\n",
      "41          0.84           496\n",
      "42          0.86           496\n",
      "43          0.88           496\n",
      "44          0.90           496\n",
      "45          0.92           496\n",
      "46          0.94           496\n",
      "47          0.96           496\n",
      "48          0.98           496\n",
      "49          1.00           496\n"
     ]
    }
   ],
   "source": [
    "damaged_roof = []\n",
    "for beban in Tephra:\n",
    "    # Filter the DataFrame for the current speed\n",
    "    filtered_data = data[data['Beban Tephra'] == beban]\n",
    "    \n",
    "    # Check if the current speed appears more than once\n",
    "    count_tidak_aman = (filtered_data['Aman Terhadap Penampang'] == 'Tidak Aman').sum()\n",
    "\n",
    "    damaged_roof.append(count_tidak_aman)  \n",
    "\n",
    "data ={\n",
    "'Beban Tephra' : Tephra,\n",
    "'Damaged Roof': damaged_roof,\n",
    "}\n",
    "\n",
    "data= pd.DataFrame(data)\n",
    "print(data)\n",
    "\n",
    "csvdata = pd.DataFrame(data)\n",
    "csvdata.to_csv(\"f:/Data D/TUGAS TH.4/TGA/ATAP/DATA ML/Damaged Roof NAIVE BAYES MLE\", index=False)"
   ]
  },
  {
   "cell_type": "code",
   "execution_count": 16,
   "metadata": {},
   "outputs": [],
   "source": [
    "# Given data for each damage state\n",
    "IM_DS1 = np.array(Tephra)\n",
    "damaged_roof = np.array(damaged_roof)\n",
    "total_roof = np.array(total_roof)"
   ]
  },
  {
   "cell_type": "code",
   "execution_count": 17,
   "metadata": {},
   "outputs": [
    {
     "name": "stdout",
     "output_type": "stream",
     "text": [
      "[0.02 0.04 0.06 0.08 0.1  0.12 0.14 0.16 0.18 0.2  0.22 0.24 0.26 0.28\n",
      " 0.3  0.32 0.34 0.36 0.38 0.4  0.42 0.44 0.46 0.48 0.5  0.52 0.54 0.56\n",
      " 0.58 0.6  0.62 0.64 0.66 0.68 0.7  0.72 0.74 0.76 0.78 0.8  0.82 0.84\n",
      " 0.86 0.88 0.9  0.92 0.94 0.96 0.98 1.  ]\n"
     ]
    }
   ],
   "source": [
    "print (IM_DS1)"
   ]
  },
  {
   "cell_type": "code",
   "execution_count": 18,
   "metadata": {},
   "outputs": [
    {
     "name": "stdout",
     "output_type": "stream",
     "text": [
      "     Beban Tephra  Probability\n",
      "0        0.000000          0.0\n",
      "1        0.001001          0.0\n",
      "2        0.002002          0.0\n",
      "3        0.003003          0.0\n",
      "4        0.004004          0.0\n",
      "..            ...          ...\n",
      "995      0.995996          1.0\n",
      "996      0.996997          1.0\n",
      "997      0.997998          1.0\n",
      "998      0.998999          1.0\n",
      "999      1.000000          1.0\n",
      "\n",
      "[1000 rows x 2 columns]\n"
     ]
    },
    {
     "name": "stderr",
     "output_type": "stream",
     "text": [
      "C:\\Users\\HP\\AppData\\Local\\Temp\\ipykernel_18860\\2486573168.py:9: RuntimeWarning: divide by zero encountered in log\n",
      "  ll = y * np.log(prob) + (1 - y) * np.log(1 - prob)\n",
      "C:\\Users\\HP\\AppData\\Local\\Temp\\ipykernel_18860\\2486573168.py:9: RuntimeWarning: invalid value encountered in multiply\n",
      "  ll = y * np.log(prob) + (1 - y) * np.log(1 - prob)\n",
      "C:\\Users\\HP\\AppData\\Local\\Temp\\ipykernel_18860\\2486573168.py:22: RuntimeWarning: divide by zero encountered in log\n",
      "  p_collapse_range = norm.cdf((np.log(IM_range) - mu_hat) / sigma_hat)\n"
     ]
    },
    {
     "data": {
      "image/png": "[encoded data removed]",
      "text/plain": [
       "<Figure size 1000x600 with 1 Axes>"
      ]
     },
     "metadata": {},
     "output_type": "display_data"
    }
   ],
   "source": [
    "# Plotting\n",
    "plt.figure(figsize=(10, 6))\n",
    "prop = plot_fragility_curve(IM_DS1, damaged_roof, total_roof, 'Kurva kerentanan', 'Green')\n",
    "plt.title('Lognormal CDF Vulnerability Curves using MLE')\n",
    "plt.xlabel('Tephra (kPa)')\n",
    "plt.ylabel('P[Collapse]')\n",
    "plt.legend()\n",
    "plt.grid(True)\n",
    "plt.show()"
   ]
  }
 ],
 "metadata": {
  "kernelspec": {
   "display_name": "Python 3",
   "language": "python",
   "name": "python3"
  },
  "language_info": {
   "codemirror_mode": {
    "name": "ipython",
    "version": 3
   },
   "file_extension": ".py",
   "mimetype": "text/x-python",
   "name": "python",
   "nbconvert_exporter": "python",
   "pygments_lexer": "ipython3",
   "version": "3.11.4"
  }
 },
 "nbformat": 4,
 "nbformat_minor": 2
}
